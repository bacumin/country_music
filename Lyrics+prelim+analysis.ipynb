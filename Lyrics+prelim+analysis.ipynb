{
 "cells": [
  {
   "cell_type": "markdown",
   "metadata": {},
   "source": [
    "# Data import"
   ]
  },
  {
   "cell_type": "code",
   "execution_count": null,
   "metadata": {
    "collapsed": true
   },
   "outputs": [],
   "source": [
    "import sqlite3\n",
    "conn = sqlite3.connect('C:/JupData/mxm_dataset.db')\n",
    "print(conn)"
   ]
  },
  {
   "cell_type": "code",
   "execution_count": 13,
   "metadata": {
    "collapsed": false
   },
   "outputs": [
    {
     "name": "stdout",
     "output_type": "stream",
     "text": [
      "<sqlite3.Cursor object at 0x000002BEF6C53110>\n"
     ]
    }
   ],
   "source": [
    "res = conn.execute(\"SELECT * FROM sqlite_master WHERE type='table'\")\n",
    "print(res)"
   ]
  },
  {
   "cell_type": "markdown",
   "metadata": {},
   "source": [
    "Metadata import"
   ]
  },
  {
   "cell_type": "code",
   "execution_count": null,
   "metadata": {
    "collapsed": true
   },
   "outputs": [],
   "source": [
    "conn_tmdb = sqlite3.connect('C:/JupData/track_metadata.db')"
   ]
  },
  {
   "cell_type": "code",
   "execution_count": 14,
   "metadata": {
    "collapsed": false
   },
   "outputs": [
    {
     "data": {
      "text/plain": [
       "[('table', 'words', 'words', 2, 'CREATE TABLE words (word TEXT PRIMARY KEY)'),\n",
       " ('table',\n",
       "  'lyrics',\n",
       "  'lyrics',\n",
       "  4,\n",
       "  'CREATE TABLE lyrics (track_id, mxm_tid INT, word TEXT, count INT, is_test INT, FOREIGN KEY(word) REFERENCES words(word))')]"
      ]
     },
     "execution_count": 14,
     "metadata": {},
     "output_type": "execute_result"
    }
   ],
   "source": [
    "res.fetchall()"
   ]
  },
  {
   "cell_type": "markdown",
   "metadata": {},
   "source": [
    "# Playing around in sql"
   ]
  },
  {
   "cell_type": "code",
   "execution_count": 15,
   "metadata": {
    "collapsed": false
   },
   "outputs": [
    {
     "data": {
      "text/plain": [
       "5000"
      ]
     },
     "execution_count": 15,
     "metadata": {},
     "output_type": "execute_result"
    }
   ],
   "source": [
    "res = conn.execute(\"SELECT word FROM words\")\n",
    "len(res.fetchall())"
   ]
  },
  {
   "cell_type": "code",
   "execution_count": 74,
   "metadata": {
    "collapsed": false
   },
   "outputs": [
    {
     "data": {
      "text/plain": [
       "[('out',),\n",
       " ('down',),\n",
       " ('get',),\n",
       " ('she',),\n",
       " ('was',),\n",
       " ('see',),\n",
       " ('if',),\n",
       " ('got',),\n",
       " ('never',),\n",
       " ('from',),\n",
       " ('he',)]"
      ]
     },
     "execution_count": 74,
     "metadata": {},
     "output_type": "execute_result"
    }
   ],
   "source": [
    "res = conn.execute(\"SELECT word FROM words WHERE ROWID BETWEEN 50 AND 60\")\n",
    "res.fetchall()"
   ]
  },
  {
   "cell_type": "code",
   "execution_count": 98,
   "metadata": {
    "collapsed": false
   },
   "outputs": [],
   "source": [
    "res = conn.execute(\"SELECT track_id FROM lyrics WHERE word='countdown' ORDER BY RANDOM() LIMIT 1\")"
   ]
  },
  {
   "cell_type": "code",
   "execution_count": 99,
   "metadata": {
    "collapsed": false,
    "scrolled": true
   },
   "outputs": [
    {
     "data": {
      "text/plain": [
       "[]"
      ]
     },
     "execution_count": 99,
     "metadata": {},
     "output_type": "execute_result"
    }
   ],
   "source": [
    "res.fetchall()"
   ]
  },
  {
   "cell_type": "code",
   "execution_count": 93,
   "metadata": {
    "collapsed": false
   },
   "outputs": [
    {
     "data": {
      "text/plain": [
       "[('Old Crow Medicine Show', 'My Good Gal')]"
      ]
     },
     "execution_count": 93,
     "metadata": {},
     "output_type": "execute_result"
    }
   ],
   "source": [
    "res = conn_tmdb.execute(\"SELECT artist_name, title FROM songs WHERE track_id='TRCKLDK12903CEA5A9'\")\n",
    "res.fetchall()"
   ]
  },
  {
   "cell_type": "markdown",
   "metadata": {},
   "source": [
    "# Got sick of SQL and switched to pandas"
   ]
  },
  {
   "cell_type": "code",
   "execution_count": 110,
   "metadata": {
    "collapsed": false
   },
   "outputs": [],
   "source": [
    "import pandas as pd\n",
    "df = pd.read_sql_query(\"select * from lyrics limit 1000000;\", conn)"
   ]
  },
  {
   "cell_type": "code",
   "execution_count": 111,
   "metadata": {
    "collapsed": false
   },
   "outputs": [
    {
     "name": "stdout",
     "output_type": "stream",
     "text": [
      "(1000000, 5)\n",
      "                  track_id  mxm_tid   word  count  is_test\n",
      "999995  TRBMZBD128C7196BE5  1566461   kind      1        0\n",
      "999996  TRBMZBD128C7196BE5  1566461   road      1        0\n",
      "999997  TRBMZBD128C7196BE5  1566461   took      1        0\n",
      "999998  TRBMZBD128C7196BE5  1566461   citi      1        0\n",
      "999999  TRBMZBD128C7196BE5  1566461  reach      1        0\n"
     ]
    }
   ],
   "source": [
    "print(df.shape)\n",
    "print(df.tail())"
   ]
  },
  {
   "cell_type": "code",
   "execution_count": 116,
   "metadata": {
    "collapsed": false
   },
   "outputs": [],
   "source": [
    "df_meta=pd.read_sql_query(\"SELECT * from songs limit 2000000;\", conn_tmdb)"
   ]
  },
  {
   "cell_type": "code",
   "execution_count": 129,
   "metadata": {
    "collapsed": false,
    "scrolled": true
   },
   "outputs": [
    {
     "name": "stdout",
     "output_type": "stream",
     "text": [
      "(1000000, 14)\n",
      "                  track_id                                title  \\\n",
      "999999  TRYYYVU12903CD01E3  Fernweh feat. Sektion Kuchikäschtli   \n",
      "\n",
      "                   song_id     release           artist_id  \\\n",
      "999999  SOWXJXQ12AB0189F43  So Oder So  AR7PLM21187B990D08   \n",
      "\n",
      "                                 artist_mbid artist_name   duration  \\\n",
      "999999  3af2b07e-c91c-4160-9bda-f0b9e3144ed3       Texta  295.07873   \n",
      "\n",
      "        artist_familiarity  artist_hotttnesss  year  track_7digitalid  \\\n",
      "999999            0.552977           0.454869  2004           8486723   \n",
      "\n",
      "        shs_perf  shs_work  \n",
      "999999        -1         0  \n"
     ]
    }
   ],
   "source": [
    "print(df_meta.shape)\n",
    "print(df_meta.tail(1))"
   ]
  },
  {
   "cell_type": "code",
   "execution_count": 126,
   "metadata": {
    "collapsed": false
   },
   "outputs": [],
   "source": [
    "df_genres=pd.read_csv('C:\\JupData\\msd-topMAGD-genreAssignment.cls', delimiter=\"\\t\", header=None)"
   ]
  },
  {
   "cell_type": "code",
   "execution_count": 130,
   "metadata": {
    "collapsed": false
   },
   "outputs": [
    {
     "name": "stdout",
     "output_type": "stream",
     "text": [
      "             track_id     genre\n",
      "0  TRAAAAK128F9318786  Pop_Rock\n"
     ]
    }
   ],
   "source": [
    "df_genres.columns=['track_id','genre']\n",
    "print(df_genres.head(1))"
   ]
  },
  {
   "cell_type": "code",
   "execution_count": 144,
   "metadata": {
    "collapsed": false
   },
   "outputs": [
    {
     "name": "stdout",
     "output_type": "stream",
     "text": [
      "                 track_id     genre\n",
      "23465  TRBMNGN12903CE41FA  Pop_Rock\n"
     ]
    }
   ],
   "source": [
    "print(df_genres[df_genres['track_id']=='TRBMNGN12903CE41FA'])"
   ]
  },
  {
   "cell_type": "code",
   "execution_count": 133,
   "metadata": {
    "collapsed": true
   },
   "outputs": [],
   "source": [
    "df_titles=df_meta.merge(df, on='track_id', how='right')"
   ]
  },
  {
   "cell_type": "code",
   "execution_count": 143,
   "metadata": {
    "collapsed": false
   },
   "outputs": [
    {
     "name": "stdout",
     "output_type": "stream",
     "text": [
      "(1000000, 14) \n",
      " track_id                                TRBMNGN12903CE41FA\n",
      "title                                  Never Met The Gooch\n",
      "release                                       Kid Dynamite\n",
      "artist_id                               ARQ6OS81187B998B73\n",
      "artist_mbid           c5300096-cfb0-4801-b146-166e2d02f08a\n",
      "artist_name                                   Kid Dynamite\n",
      "duration                                           119.954\n",
      "artist_familiarity                                0.640848\n",
      "artist_hotttnesss                                 0.406503\n",
      "year                                                  1998\n",
      "track_7digitalid                                   7593181\n",
      "word                                                   goe\n",
      "count                                                    1\n",
      "is_test                                                  0\n",
      "Name: 10000, dtype: object\n"
     ]
    }
   ],
   "source": [
    "print(df_titles.shape, '\\n', df_titles.iloc[10000])"
   ]
  },
  {
   "cell_type": "code",
   "execution_count": 137,
   "metadata": {
    "collapsed": false
   },
   "outputs": [],
   "source": [
    "df_titles.drop(labels=['song_id', 'shs_perf', 'shs_work', 'mxm_tid'],axis=1, inplace=True)"
   ]
  },
  {
   "cell_type": "code",
   "execution_count": 138,
   "metadata": {
    "collapsed": true
   },
   "outputs": [],
   "source": [
    "df_merged=df_titles.merge(df_genres, on='track_id', how='left')"
   ]
  },
  {
   "cell_type": "code",
   "execution_count": 139,
   "metadata": {
    "collapsed": false
   },
   "outputs": [
    {
     "name": "stdout",
     "output_type": "stream",
     "text": [
      "(1000000, 15)\n"
     ]
    }
   ],
   "source": [
    "print(df_merged.shape)"
   ]
  },
  {
   "cell_type": "code",
   "execution_count": 140,
   "metadata": {
    "collapsed": false
   },
   "outputs": [
    {
     "name": "stdout",
     "output_type": "stream",
     "text": [
      "              track_id            title    release           artist_id  \\\n",
      "0   TRBMMVC128F429570F  Dead As History  Ire Works  ARMAC4T1187FB3FA4C   \n",
      "1   TRBMMVC128F429570F  Dead As History  Ire Works  ARMAC4T1187FB3FA4C   \n",
      "2   TRBMMVC128F429570F  Dead As History  Ire Works  ARMAC4T1187FB3FA4C   \n",
      "3   TRBMMVC128F429570F  Dead As History  Ire Works  ARMAC4T1187FB3FA4C   \n",
      "4   TRBMMVC128F429570F  Dead As History  Ire Works  ARMAC4T1187FB3FA4C   \n",
      "5   TRBMMVC128F429570F  Dead As History  Ire Works  ARMAC4T1187FB3FA4C   \n",
      "6   TRBMMVC128F429570F  Dead As History  Ire Works  ARMAC4T1187FB3FA4C   \n",
      "7   TRBMMVC128F429570F  Dead As History  Ire Works  ARMAC4T1187FB3FA4C   \n",
      "8   TRBMMVC128F429570F  Dead As History  Ire Works  ARMAC4T1187FB3FA4C   \n",
      "9   TRBMMVC128F429570F  Dead As History  Ire Works  ARMAC4T1187FB3FA4C   \n",
      "10  TRBMMVC128F429570F  Dead As History  Ire Works  ARMAC4T1187FB3FA4C   \n",
      "11  TRBMMVC128F429570F  Dead As History  Ire Works  ARMAC4T1187FB3FA4C   \n",
      "12  TRBMMVC128F429570F  Dead As History  Ire Works  ARMAC4T1187FB3FA4C   \n",
      "13  TRBMMVC128F429570F  Dead As History  Ire Works  ARMAC4T1187FB3FA4C   \n",
      "14  TRBMMVC128F429570F  Dead As History  Ire Works  ARMAC4T1187FB3FA4C   \n",
      "15  TRBMMVC128F429570F  Dead As History  Ire Works  ARMAC4T1187FB3FA4C   \n",
      "16  TRBMMVC128F429570F  Dead As History  Ire Works  ARMAC4T1187FB3FA4C   \n",
      "17  TRBMMVC128F429570F  Dead As History  Ire Works  ARMAC4T1187FB3FA4C   \n",
      "18  TRBMMVC128F429570F  Dead As History  Ire Works  ARMAC4T1187FB3FA4C   \n",
      "19  TRBMMVC128F429570F  Dead As History  Ire Works  ARMAC4T1187FB3FA4C   \n",
      "20  TRBMMVC128F429570F  Dead As History  Ire Works  ARMAC4T1187FB3FA4C   \n",
      "21  TRBMMVC128F429570F  Dead As History  Ire Works  ARMAC4T1187FB3FA4C   \n",
      "22  TRBMMVC128F429570F  Dead As History  Ire Works  ARMAC4T1187FB3FA4C   \n",
      "23  TRBMMVC128F429570F  Dead As History  Ire Works  ARMAC4T1187FB3FA4C   \n",
      "24  TRBMMVC128F429570F  Dead As History  Ire Works  ARMAC4T1187FB3FA4C   \n",
      "25  TRBMMVC128F429570F  Dead As History  Ire Works  ARMAC4T1187FB3FA4C   \n",
      "26  TRBMMVC128F429570F  Dead As History  Ire Works  ARMAC4T1187FB3FA4C   \n",
      "27  TRBMMVC128F429570F  Dead As History  Ire Works  ARMAC4T1187FB3FA4C   \n",
      "28  TRBMMVC128F429570F  Dead As History  Ire Works  ARMAC4T1187FB3FA4C   \n",
      "29  TRBMMVC128F429570F  Dead As History  Ire Works  ARMAC4T1187FB3FA4C   \n",
      "30  TRBMMVC128F429570F  Dead As History  Ire Works  ARMAC4T1187FB3FA4C   \n",
      "31  TRBMMVC128F429570F  Dead As History  Ire Works  ARMAC4T1187FB3FA4C   \n",
      "32  TRBMMVC128F429570F  Dead As History  Ire Works  ARMAC4T1187FB3FA4C   \n",
      "33  TRBMMVC128F429570F  Dead As History  Ire Works  ARMAC4T1187FB3FA4C   \n",
      "34  TRBMMVC128F429570F  Dead As History  Ire Works  ARMAC4T1187FB3FA4C   \n",
      "35  TRBMMVC128F429570F  Dead As History  Ire Works  ARMAC4T1187FB3FA4C   \n",
      "36  TRBMMVC128F429570F  Dead As History  Ire Works  ARMAC4T1187FB3FA4C   \n",
      "37  TRBMMVC128F429570F  Dead As History  Ire Works  ARMAC4T1187FB3FA4C   \n",
      "38  TRBMMVC128F429570F  Dead As History  Ire Works  ARMAC4T1187FB3FA4C   \n",
      "39  TRBMMVC128F429570F  Dead As History  Ire Works  ARMAC4T1187FB3FA4C   \n",
      "40  TRBMMVC128F429570F  Dead As History  Ire Works  ARMAC4T1187FB3FA4C   \n",
      "41  TRBMMVC128F429570F  Dead As History  Ire Works  ARMAC4T1187FB3FA4C   \n",
      "42  TRBMMVC128F429570F  Dead As History  Ire Works  ARMAC4T1187FB3FA4C   \n",
      "43  TRBMMVC128F429570F  Dead As History  Ire Works  ARMAC4T1187FB3FA4C   \n",
      "44  TRBMMVC128F429570F  Dead As History  Ire Works  ARMAC4T1187FB3FA4C   \n",
      "45  TRBMMVC128F429570F  Dead As History  Ire Works  ARMAC4T1187FB3FA4C   \n",
      "46  TRBMMVC128F429570F  Dead As History  Ire Works  ARMAC4T1187FB3FA4C   \n",
      "47  TRBMMVC128F429570F  Dead As History  Ire Works  ARMAC4T1187FB3FA4C   \n",
      "48  TRBMMVC128F429570F  Dead As History  Ire Works  ARMAC4T1187FB3FA4C   \n",
      "49  TRBMMVC128F429570F  Dead As History  Ire Works  ARMAC4T1187FB3FA4C   \n",
      "\n",
      "                             artist_mbid                artist_name  \\\n",
      "0   1bc41dff-5397-4c53-bb50-469d2c277197  The Dillinger Escape Plan   \n",
      "1   1bc41dff-5397-4c53-bb50-469d2c277197  The Dillinger Escape Plan   \n",
      "2   1bc41dff-5397-4c53-bb50-469d2c277197  The Dillinger Escape Plan   \n",
      "3   1bc41dff-5397-4c53-bb50-469d2c277197  The Dillinger Escape Plan   \n",
      "4   1bc41dff-5397-4c53-bb50-469d2c277197  The Dillinger Escape Plan   \n",
      "5   1bc41dff-5397-4c53-bb50-469d2c277197  The Dillinger Escape Plan   \n",
      "6   1bc41dff-5397-4c53-bb50-469d2c277197  The Dillinger Escape Plan   \n",
      "7   1bc41dff-5397-4c53-bb50-469d2c277197  The Dillinger Escape Plan   \n",
      "8   1bc41dff-5397-4c53-bb50-469d2c277197  The Dillinger Escape Plan   \n",
      "9   1bc41dff-5397-4c53-bb50-469d2c277197  The Dillinger Escape Plan   \n",
      "10  1bc41dff-5397-4c53-bb50-469d2c277197  The Dillinger Escape Plan   \n",
      "11  1bc41dff-5397-4c53-bb50-469d2c277197  The Dillinger Escape Plan   \n",
      "12  1bc41dff-5397-4c53-bb50-469d2c277197  The Dillinger Escape Plan   \n",
      "13  1bc41dff-5397-4c53-bb50-469d2c277197  The Dillinger Escape Plan   \n",
      "14  1bc41dff-5397-4c53-bb50-469d2c277197  The Dillinger Escape Plan   \n",
      "15  1bc41dff-5397-4c53-bb50-469d2c277197  The Dillinger Escape Plan   \n",
      "16  1bc41dff-5397-4c53-bb50-469d2c277197  The Dillinger Escape Plan   \n",
      "17  1bc41dff-5397-4c53-bb50-469d2c277197  The Dillinger Escape Plan   \n",
      "18  1bc41dff-5397-4c53-bb50-469d2c277197  The Dillinger Escape Plan   \n",
      "19  1bc41dff-5397-4c53-bb50-469d2c277197  The Dillinger Escape Plan   \n",
      "20  1bc41dff-5397-4c53-bb50-469d2c277197  The Dillinger Escape Plan   \n",
      "21  1bc41dff-5397-4c53-bb50-469d2c277197  The Dillinger Escape Plan   \n",
      "22  1bc41dff-5397-4c53-bb50-469d2c277197  The Dillinger Escape Plan   \n",
      "23  1bc41dff-5397-4c53-bb50-469d2c277197  The Dillinger Escape Plan   \n",
      "24  1bc41dff-5397-4c53-bb50-469d2c277197  The Dillinger Escape Plan   \n",
      "25  1bc41dff-5397-4c53-bb50-469d2c277197  The Dillinger Escape Plan   \n",
      "26  1bc41dff-5397-4c53-bb50-469d2c277197  The Dillinger Escape Plan   \n",
      "27  1bc41dff-5397-4c53-bb50-469d2c277197  The Dillinger Escape Plan   \n",
      "28  1bc41dff-5397-4c53-bb50-469d2c277197  The Dillinger Escape Plan   \n",
      "29  1bc41dff-5397-4c53-bb50-469d2c277197  The Dillinger Escape Plan   \n",
      "30  1bc41dff-5397-4c53-bb50-469d2c277197  The Dillinger Escape Plan   \n",
      "31  1bc41dff-5397-4c53-bb50-469d2c277197  The Dillinger Escape Plan   \n",
      "32  1bc41dff-5397-4c53-bb50-469d2c277197  The Dillinger Escape Plan   \n",
      "33  1bc41dff-5397-4c53-bb50-469d2c277197  The Dillinger Escape Plan   \n",
      "34  1bc41dff-5397-4c53-bb50-469d2c277197  The Dillinger Escape Plan   \n",
      "35  1bc41dff-5397-4c53-bb50-469d2c277197  The Dillinger Escape Plan   \n",
      "36  1bc41dff-5397-4c53-bb50-469d2c277197  The Dillinger Escape Plan   \n",
      "37  1bc41dff-5397-4c53-bb50-469d2c277197  The Dillinger Escape Plan   \n",
      "38  1bc41dff-5397-4c53-bb50-469d2c277197  The Dillinger Escape Plan   \n",
      "39  1bc41dff-5397-4c53-bb50-469d2c277197  The Dillinger Escape Plan   \n",
      "40  1bc41dff-5397-4c53-bb50-469d2c277197  The Dillinger Escape Plan   \n",
      "41  1bc41dff-5397-4c53-bb50-469d2c277197  The Dillinger Escape Plan   \n",
      "42  1bc41dff-5397-4c53-bb50-469d2c277197  The Dillinger Escape Plan   \n",
      "43  1bc41dff-5397-4c53-bb50-469d2c277197  The Dillinger Escape Plan   \n",
      "44  1bc41dff-5397-4c53-bb50-469d2c277197  The Dillinger Escape Plan   \n",
      "45  1bc41dff-5397-4c53-bb50-469d2c277197  The Dillinger Escape Plan   \n",
      "46  1bc41dff-5397-4c53-bb50-469d2c277197  The Dillinger Escape Plan   \n",
      "47  1bc41dff-5397-4c53-bb50-469d2c277197  The Dillinger Escape Plan   \n",
      "48  1bc41dff-5397-4c53-bb50-469d2c277197  The Dillinger Escape Plan   \n",
      "49  1bc41dff-5397-4c53-bb50-469d2c277197  The Dillinger Escape Plan   \n",
      "\n",
      "     duration  artist_familiarity  artist_hotttnesss  year  track_7digitalid  \\\n",
      "0   329.01179            0.839963           0.541889  2007           2458011   \n",
      "1   329.01179            0.839963           0.541889  2007           2458011   \n",
      "2   329.01179            0.839963           0.541889  2007           2458011   \n",
      "3   329.01179            0.839963           0.541889  2007           2458011   \n",
      "4   329.01179            0.839963           0.541889  2007           2458011   \n",
      "5   329.01179            0.839963           0.541889  2007           2458011   \n",
      "6   329.01179            0.839963           0.541889  2007           2458011   \n",
      "7   329.01179            0.839963           0.541889  2007           2458011   \n",
      "8   329.01179            0.839963           0.541889  2007           2458011   \n",
      "9   329.01179            0.839963           0.541889  2007           2458011   \n",
      "10  329.01179            0.839963           0.541889  2007           2458011   \n",
      "11  329.01179            0.839963           0.541889  2007           2458011   \n",
      "12  329.01179            0.839963           0.541889  2007           2458011   \n",
      "13  329.01179            0.839963           0.541889  2007           2458011   \n",
      "14  329.01179            0.839963           0.541889  2007           2458011   \n",
      "15  329.01179            0.839963           0.541889  2007           2458011   \n",
      "16  329.01179            0.839963           0.541889  2007           2458011   \n",
      "17  329.01179            0.839963           0.541889  2007           2458011   \n",
      "18  329.01179            0.839963           0.541889  2007           2458011   \n",
      "19  329.01179            0.839963           0.541889  2007           2458011   \n",
      "20  329.01179            0.839963           0.541889  2007           2458011   \n",
      "21  329.01179            0.839963           0.541889  2007           2458011   \n",
      "22  329.01179            0.839963           0.541889  2007           2458011   \n",
      "23  329.01179            0.839963           0.541889  2007           2458011   \n",
      "24  329.01179            0.839963           0.541889  2007           2458011   \n",
      "25  329.01179            0.839963           0.541889  2007           2458011   \n",
      "26  329.01179            0.839963           0.541889  2007           2458011   \n",
      "27  329.01179            0.839963           0.541889  2007           2458011   \n",
      "28  329.01179            0.839963           0.541889  2007           2458011   \n",
      "29  329.01179            0.839963           0.541889  2007           2458011   \n",
      "30  329.01179            0.839963           0.541889  2007           2458011   \n",
      "31  329.01179            0.839963           0.541889  2007           2458011   \n",
      "32  329.01179            0.839963           0.541889  2007           2458011   \n",
      "33  329.01179            0.839963           0.541889  2007           2458011   \n",
      "34  329.01179            0.839963           0.541889  2007           2458011   \n",
      "35  329.01179            0.839963           0.541889  2007           2458011   \n",
      "36  329.01179            0.839963           0.541889  2007           2458011   \n",
      "37  329.01179            0.839963           0.541889  2007           2458011   \n",
      "38  329.01179            0.839963           0.541889  2007           2458011   \n",
      "39  329.01179            0.839963           0.541889  2007           2458011   \n",
      "40  329.01179            0.839963           0.541889  2007           2458011   \n",
      "41  329.01179            0.839963           0.541889  2007           2458011   \n",
      "42  329.01179            0.839963           0.541889  2007           2458011   \n",
      "43  329.01179            0.839963           0.541889  2007           2458011   \n",
      "44  329.01179            0.839963           0.541889  2007           2458011   \n",
      "45  329.01179            0.839963           0.541889  2007           2458011   \n",
      "46  329.01179            0.839963           0.541889  2007           2458011   \n",
      "47  329.01179            0.839963           0.541889  2007           2458011   \n",
      "48  329.01179            0.839963           0.541889  2007           2458011   \n",
      "49  329.01179            0.839963           0.541889  2007           2458011   \n",
      "\n",
      "       word  count  is_test     genre  \n",
      "0         i      8        0  Pop_Rock  \n",
      "1       the     14        0  Pop_Rock  \n",
      "2       you      1        0  Pop_Rock  \n",
      "3        to      6        0  Pop_Rock  \n",
      "4       and      1        0  Pop_Rock  \n",
      "5         a      3        0  Pop_Rock  \n",
      "6       not      2        0  Pop_Rock  \n",
      "7        my      4        0  Pop_Rock  \n",
      "8        is      8        0  Pop_Rock  \n",
      "9      that      2        0  Pop_Rock  \n",
      "10       on      4        0  Pop_Rock  \n",
      "11       we      7        0  Pop_Rock  \n",
      "12     will      4        0  Pop_Rock  \n",
      "13      for      1        0  Pop_Rock  \n",
      "14     have      2        0  Pop_Rock  \n",
      "15     know      1        0  Pop_Rock  \n",
      "16     this      2        0  Pop_Rock  \n",
      "17      but      2        0  Pop_Rock  \n",
      "18     with      3        0  Pop_Rock  \n",
      "19     just      2        0  Pop_Rock  \n",
      "20     like      5        0  Pop_Rock  \n",
      "21     time      2        0  Pop_Rock  \n",
      "22      see      1        0  Pop_Rock  \n",
      "23       if      1        0  Pop_Rock  \n",
      "24    never      6        0  Pop_Rock  \n",
      "25     from      1        0  Pop_Rock  \n",
      "26     feel      4        0  Pop_Rock  \n",
      "27      way      5        0  Pop_Rock  \n",
      "28       as      2        0  Pop_Rock  \n",
      "29     back      2        0  Pop_Rock  \n",
      "30      our      3        0  Pop_Rock  \n",
      "31      eye      2        0  Pop_Rock  \n",
      "32    right      2        0  Pop_Rock  \n",
      "33     give      1        0  Pop_Rock  \n",
      "34    still      1        0  Pop_Rock  \n",
      "35       us      4        0  Pop_Rock  \n",
      "36     long      2        0  Pop_Rock  \n",
      "37     find      2        0  Pop_Rock  \n",
      "38    light      1        0  Pop_Rock  \n",
      "39    alway      2        0  Pop_Rock  \n",
      "40     hold      2        0  Pop_Rock  \n",
      "41     walk      2        0  Pop_Rock  \n",
      "42    insid      1        0  Pop_Rock  \n",
      "43  tonight      1        0  Pop_Rock  \n",
      "44     burn      2        0  Pop_Rock  \n",
      "45      sun      2        0  Pop_Rock  \n",
      "46     play      1        0  Pop_Rock  \n",
      "47     made      1        0  Pop_Rock  \n",
      "48     song      2        0  Pop_Rock  \n",
      "49    wrong      2        0  Pop_Rock  \n"
     ]
    }
   ],
   "source": [
    "print(df_merged.head(50))"
   ]
  },
  {
   "cell_type": "code",
   "execution_count": null,
   "metadata": {
    "collapsed": true
   },
   "outputs": [],
   "source": []
  },
  {
   "cell_type": "code",
   "execution_count": null,
   "metadata": {
    "collapsed": true
   },
   "outputs": [],
   "source": [
    "conn.close()\n",
    "conn_tmdb.close()"
   ]
  }
 ],
 "metadata": {
  "kernelspec": {
   "display_name": "Python 3",
   "language": "python",
   "name": "python3"
  },
  "language_info": {
   "codemirror_mode": {
    "name": "ipython",
    "version": 3
   },
   "file_extension": ".py",
   "mimetype": "text/x-python",
   "name": "python",
   "nbconvert_exporter": "python",
   "pygments_lexer": "ipython3",
   "version": "3.6.0"
  }
 },
 "nbformat": 4,
 "nbformat_minor": 2
}
