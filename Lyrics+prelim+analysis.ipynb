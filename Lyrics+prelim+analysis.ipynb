{
 "cells": [
  {
   "cell_type": "markdown",
   "metadata": {},
   "source": [
    "# Data import"
   ]
  },
  {
   "cell_type": "code",
   "execution_count": 2,
   "metadata": {
    "collapsed": false
   },
   "outputs": [
    {
     "name": "stdout",
     "output_type": "stream",
     "text": [
      "<sqlite3.Connection object at 0x000002D0B41F3030>\n"
     ]
    }
   ],
   "source": [
    "import sqlite3\n",
    "conn = sqlite3.connect('C:/JupData/mxm_dataset.db')\n",
    "print(conn)"
   ]
  },
  {
   "cell_type": "code",
   "execution_count": 3,
   "metadata": {
    "collapsed": false
   },
   "outputs": [
    {
     "name": "stdout",
     "output_type": "stream",
     "text": [
      "<sqlite3.Cursor object at 0x000002D0B629ED50>\n"
     ]
    }
   ],
   "source": [
    "res = conn.execute(\"SELECT * FROM sqlite_master WHERE type='table'\")\n",
    "print(res)"
   ]
  },
  {
   "cell_type": "markdown",
   "metadata": {},
   "source": [
    "Metadata import"
   ]
  },
  {
   "cell_type": "code",
   "execution_count": 4,
   "metadata": {
    "collapsed": true
   },
   "outputs": [],
   "source": [
    "conn_tmdb = sqlite3.connect('C:/JupData/track_metadata.db')"
   ]
  },
  {
   "cell_type": "code",
   "execution_count": 5,
   "metadata": {
    "collapsed": false
   },
   "outputs": [
    {
     "data": {
      "text/plain": [
       "[('table', 'words', 'words', 2, 'CREATE TABLE words (word TEXT PRIMARY KEY)'),\n",
       " ('table',\n",
       "  'lyrics',\n",
       "  'lyrics',\n",
       "  4,\n",
       "  'CREATE TABLE lyrics (track_id, mxm_tid INT, word TEXT, count INT, is_test INT, FOREIGN KEY(word) REFERENCES words(word))')]"
      ]
     },
     "execution_count": 5,
     "metadata": {},
     "output_type": "execute_result"
    }
   ],
   "source": [
    "res.fetchall()"
   ]
  },
  {
   "cell_type": "markdown",
   "metadata": {},
   "source": [
    "# Playing around in sql"
   ]
  },
  {
   "cell_type": "code",
   "execution_count": null,
   "metadata": {
    "collapsed": false
   },
   "outputs": [],
   "source": [
    "res = conn.execute(\"SELECT word FROM words\")\n",
    "len(res.fetchall())"
   ]
  },
  {
   "cell_type": "code",
   "execution_count": null,
   "metadata": {
    "collapsed": false
   },
   "outputs": [],
   "source": [
    "res = conn.execute(\"SELECT word FROM words WHERE ROWID BETWEEN 50 AND 60\")\n",
    "res.fetchall()"
   ]
  },
  {
   "cell_type": "code",
   "execution_count": null,
   "metadata": {
    "collapsed": false
   },
   "outputs": [],
   "source": [
    "res = conn.execute(\"SELECT track_id FROM lyrics WHERE word='countdown' ORDER BY RANDOM() LIMIT 1\")"
   ]
  },
  {
   "cell_type": "code",
   "execution_count": null,
   "metadata": {
    "collapsed": false,
    "scrolled": true
   },
   "outputs": [],
   "source": [
    "res.fetchall()"
   ]
  },
  {
   "cell_type": "code",
   "execution_count": null,
   "metadata": {
    "collapsed": false
   },
   "outputs": [],
   "source": [
    "res = conn_tmdb.execute(\"SELECT artist_name, title FROM songs WHERE track_id='TRCKLDK12903CEA5A9'\")\n",
    "res.fetchall()"
   ]
  },
  {
   "cell_type": "markdown",
   "metadata": {},
   "source": [
    "# Got sick of SQL and switched to pandas"
   ]
  },
  {
   "cell_type": "markdown",
   "metadata": {},
   "source": [
    "<b> Import data - select quantity with the number after \"limit\""
   ]
  },
  {
   "cell_type": "code",
   "execution_count": 6,
   "metadata": {
    "collapsed": false
   },
   "outputs": [],
   "source": [
    "#Import words data\n",
    "\n",
    "import pandas as pd\n",
    "df = pd.read_sql_query(\"select * from lyrics limit 5000000;\", conn)"
   ]
  },
  {
   "cell_type": "code",
   "execution_count": 7,
   "metadata": {
    "collapsed": false
   },
   "outputs": [
    {
     "name": "stdout",
     "output_type": "stream",
     "text": [
      "(5000000, 5)\n",
      "                   track_id  mxm_tid  word  count  is_test\n",
      "4999995  TRHRMDQ128F4240653  6643312  gone      4        0\n",
      "4999996  TRHRMDQ128F4240653  6643312  word      1        0\n",
      "4999997  TRHRMDQ128F4240653  6643312  hope      4        0\n",
      "4999998  TRHRMDQ128F4240653  6643312  move      1        0\n",
      "4999999  TRHRMDQ128F4240653  6643312  name      2        0\n",
      "5000\n"
     ]
    }
   ],
   "source": [
    "print(df.shape)\n",
    "print(df.tail())\n",
    "print(len(df['word'].value_counts()))"
   ]
  },
  {
   "cell_type": "code",
   "execution_count": 8,
   "metadata": {
    "collapsed": false
   },
   "outputs": [],
   "source": [
    "#Import track information data to maps track id to title\n",
    "\n",
    "df_meta=pd.read_sql_query(\"SELECT * from songs limit 5000000;\", conn_tmdb)"
   ]
  },
  {
   "cell_type": "code",
   "execution_count": 9,
   "metadata": {
    "collapsed": false,
    "scrolled": true
   },
   "outputs": [
    {
     "name": "stdout",
     "output_type": "stream",
     "text": [
      "(1000000, 14)\n",
      "                  track_id                                title  \\\n",
      "999999  TRYYYVU12903CD01E3  Fernweh feat. Sektion Kuchikäschtli   \n",
      "\n",
      "                   song_id     release           artist_id  \\\n",
      "999999  SOWXJXQ12AB0189F43  So Oder So  AR7PLM21187B990D08   \n",
      "\n",
      "                                 artist_mbid artist_name   duration  \\\n",
      "999999  3af2b07e-c91c-4160-9bda-f0b9e3144ed3       Texta  295.07873   \n",
      "\n",
      "        artist_familiarity  artist_hotttnesss  year  track_7digitalid  \\\n",
      "999999            0.552977           0.454869  2004           8486723   \n",
      "\n",
      "        shs_perf  shs_work  \n",
      "999999        -1         0  \n"
     ]
    }
   ],
   "source": [
    "print(df_meta.shape)\n",
    "print(df_meta.tail(1))"
   ]
  },
  {
   "cell_type": "code",
   "execution_count": 15,
   "metadata": {
    "collapsed": true
   },
   "outputs": [],
   "source": [
    "df_titles=df_meta.merge(df, on='track_id', how='right')"
   ]
  },
  {
   "cell_type": "code",
   "execution_count": 16,
   "metadata": {
    "collapsed": false
   },
   "outputs": [],
   "source": [
    "#print(df_titles.shape, '\\n', df_titles[df_titles['track_id']=='TRAAPKW128F428BC93'])"
   ]
  },
  {
   "cell_type": "code",
   "execution_count": 17,
   "metadata": {
    "collapsed": false
   },
   "outputs": [],
   "source": [
    "df_titles.drop(labels=['song_id', 'shs_perf', 'shs_work', 'mxm_tid'],axis=1, inplace=True)"
   ]
  },
  {
   "cell_type": "markdown",
   "metadata": {},
   "source": [
    "<b> first genres dataset, didn't end up using it"
   ]
  },
  {
   "cell_type": "code",
   "execution_count": 10,
   "metadata": {
    "collapsed": false
   },
   "outputs": [],
   "source": [
    "#first genres dataset\n",
    "\n",
    "df_genres=pd.read_csv('C:\\JupData\\msd-topMAGD-genreAssignment.cls', delimiter=\"\\t\", header=None)"
   ]
  },
  {
   "cell_type": "code",
   "execution_count": 11,
   "metadata": {
    "collapsed": false
   },
   "outputs": [
    {
     "name": "stdout",
     "output_type": "stream",
     "text": [
      "             track_id     genre\n",
      "0  TRAAAAK128F9318786  Pop_Rock\n"
     ]
    }
   ],
   "source": [
    "df_genres.columns=['track_id','genre']\n",
    "print(df_genres.head(1))"
   ]
  },
  {
   "cell_type": "code",
   "execution_count": 12,
   "metadata": {
    "collapsed": false,
    "scrolled": true
   },
   "outputs": [
    {
     "name": "stdout",
     "output_type": "stream",
     "text": [
      "                  track_id    genre\n",
      "28      TRAABHC128F933A3F8  Country\n",
      "93      TRAADXK12903CFAE92  Country\n",
      "144     TRAAGIU128F931BA5B  Country\n",
      "148     TRAAGMC128F4292D0F  Country\n",
      "150     TRAAGNL128F4299BF1  Country\n",
      "208     TRAAIAE128F42AC53D  Country\n",
      "323     TRAAMKI128F428537A  Country\n",
      "326     TRAAMRE128F4298E7D  Country\n",
      "334     TRAAMXN128F148AD52  Country\n",
      "343     TRAANEK128F427D2D5  Country\n",
      "363     TRAANTY12903CAE21E  Country\n",
      "372     TRAAOEH128F426A82F  Country\n",
      "374     TRAAOFQ128F92E1E46  Country\n",
      "391     TRAAORB128F930A97F  Country\n",
      "394     TRAAORZ128F421CB5C  Country\n",
      "407     TRAAPKW128F428BC93  Country\n",
      "415     TRAAPVB12903CDD85D  Country\n",
      "457     TRAARRM128F42BC439  Country\n",
      "604     TRAAXTL128F4222D39  Country\n",
      "624     TRAAYRA128F92E9CC7  Country\n",
      "720     TRABCLV128F428C59F  Country\n",
      "726     TRABCSP128F93089E8  Country\n",
      "758     TRABEDC128F421AFC7  Country\n",
      "905     TRABKKZ128F427D470  Country\n",
      "943     TRABLSO128F14A4707  Country\n",
      "997     TRABNTM128F42A2713  Country\n",
      "1011    TRABOGP12903CC080D  Country\n",
      "1033    TRABPDM128EF34E32D  Country\n",
      "1047    TRABPRT128F1495762  Country\n",
      "1138    TRABUAQ128F4262390  Country\n",
      "...                    ...      ...\n",
      "405370  TRZYHQC12903CB9603  Country\n",
      "405380  TRZYHXA128F14A3A4F  Country\n",
      "405388  TRZYIFL128F9315B2B  Country\n",
      "405413  TRZYJMY12903CC08FE  Country\n",
      "405523  TRZYOJU12903D01F36  Country\n",
      "405588  TRZYQRH128F42BC2B3  Country\n",
      "405674  TRZYUDY128F148AD53  Country\n",
      "405686  TRZYUMM12903CCE736  Country\n",
      "405714  TRZYVJB128F4264FDA  Country\n",
      "405751  TRZYXEU128F92FDC23  Country\n",
      "405764  TRZYXRH128F92FBF69  Country\n",
      "405930  TRZZEMC12903C9AB3F  Country\n",
      "405956  TRZZFWF128F4249BCA  Country\n",
      "405968  TRZZGGV128F932766C  Country\n",
      "405998  TRZZHRT128F93390B8  Country\n",
      "405999  TRZZHSJ128F4243A56  Country\n",
      "406030  TRZZJBT12903CC4921  Country\n",
      "406041  TRZZJNN128F92D7393  Country\n",
      "406093  TRZZLRG128F92FE8F2  Country\n",
      "406137  TRZZNIP12903CFDBBD  Country\n",
      "406185  TRZZPIZ128F148ADF2  Country\n",
      "406187  TRZZPKD128F428323F  Country\n",
      "406188  TRZZPKF128F92ED009  Country\n",
      "406214  TRZZQQO12903CFC9D6  Country\n",
      "406289  TRZZTYS128EF347EAB  Country\n",
      "406296  TRZZUFF128F427D2D6  Country\n",
      "406299  TRZZUIZ128F92FF374  Country\n",
      "406314  TRZZUYD128E0794EE6  Country\n",
      "406349  TRZZWXV128F428F20D  Country\n",
      "406376  TRZZYJR128F4272825  Country\n",
      "\n",
      "[11772 rows x 2 columns]\n"
     ]
    }
   ],
   "source": [
    "print(df_genres[df_genres['genre']=='Country'])"
   ]
  },
  {
   "cell_type": "markdown",
   "metadata": {},
   "source": [
    "<b> second genre dataset, nicer (more merges) "
   ]
  },
  {
   "cell_type": "code",
   "execution_count": 13,
   "metadata": {
    "collapsed": false
   },
   "outputs": [],
   "source": [
    "df_genres2=pd.read_csv('C:\\JupData\\msd_tagtraum_cd1.cls', delimiter=\"\\t\", skiprows=8, usecols=[0,1], header=None)"
   ]
  },
  {
   "cell_type": "code",
   "execution_count": 14,
   "metadata": {
    "collapsed": false,
    "scrolled": true
   },
   "outputs": [
    {
     "name": "stdout",
     "output_type": "stream",
     "text": [
      "             track_id       genre\n",
      "0  TRAAAAW128F429D538         Rap\n",
      "1  TRAAABD128F429CF47    Pop_Rock\n",
      "2  TRAAAED128E0783FAB        Jazz\n",
      "3  TRAAAEF128F4273421    Pop_Rock\n",
      "4  TRAAAEM128F93347B9  Electronic\n"
     ]
    }
   ],
   "source": [
    "df_genres2.columns=['track_id', 'genre']\n",
    "print(df_genres2.head())"
   ]
  },
  {
   "cell_type": "markdown",
   "metadata": {},
   "source": [
    "<b> merging genres data with titles and words data"
   ]
  },
  {
   "cell_type": "code",
   "execution_count": 18,
   "metadata": {
    "collapsed": true
   },
   "outputs": [],
   "source": [
    "df_merged=df_titles.merge(df_genres2, on='track_id', how='left')"
   ]
  },
  {
   "cell_type": "code",
   "execution_count": 19,
   "metadata": {
    "collapsed": false
   },
   "outputs": [
    {
     "name": "stdout",
     "output_type": "stream",
     "text": [
      "(5000000, 15)\n",
      "5000\n"
     ]
    }
   ],
   "source": [
    "print(df_merged.shape)\n",
    "print(len(df_merged['word'].unique()))"
   ]
  },
  {
   "cell_type": "code",
   "execution_count": 20,
   "metadata": {
    "collapsed": false
   },
   "outputs": [
    {
     "name": "stdout",
     "output_type": "stream",
     "text": [
      "             track_id             title        release           artist_id  \\\n",
      "0  TRGMMMO128F42AD910  Sear Me MCMXC111  Meisterwork 2  ARW5R811187B98BC96   \n",
      "\n",
      "                            artist_mbid     artist_name   duration  \\\n",
      "0  2f04ad1f-9f97-41d0-a09c-59c40dfe9cd1  My Dying Bride  441.39057   \n",
      "\n",
      "   artist_familiarity  artist_hotttnesss  year  track_7digitalid word  count  \\\n",
      "0            0.689401           0.485309     0           1273975    i      1   \n",
      "\n",
      "   is_test genre  \n",
      "0        0   NaN  \n"
     ]
    }
   ],
   "source": [
    "print(df_merged.head(1))"
   ]
  },
  {
   "cell_type": "code",
   "execution_count": 21,
   "metadata": {
    "collapsed": false
   },
   "outputs": [],
   "source": [
    "#checking that we have enough country data, making sure the data looks ok\n",
    "\n",
    "import numpy as np\n",
    "df_merged['is_country'] = np.where(df_merged['genre'] ==  'Country', 1,0)\n",
    "\n",
    "#df_merged['is_country']=0\n",
    "#df_merged['is_country'][df_merged['genre']=='Country']=1"
   ]
  },
  {
   "cell_type": "code",
   "execution_count": 22,
   "metadata": {
    "collapsed": false
   },
   "outputs": [
    {
     "name": "stdout",
     "output_type": "stream",
     "text": [
      "                   track_id              title  \\\n",
      "5304     TRGMRKF128F4275EE7          Pop A Top   \n",
      "5305     TRGMRKF128F4275EE7          Pop A Top   \n",
      "5306     TRGMRKF128F4275EE7          Pop A Top   \n",
      "5307     TRGMRKF128F4275EE7          Pop A Top   \n",
      "5308     TRGMRKF128F4275EE7          Pop A Top   \n",
      "5309     TRGMRKF128F4275EE7          Pop A Top   \n",
      "5310     TRGMRKF128F4275EE7          Pop A Top   \n",
      "5311     TRGMRKF128F4275EE7          Pop A Top   \n",
      "5312     TRGMRKF128F4275EE7          Pop A Top   \n",
      "5313     TRGMRKF128F4275EE7          Pop A Top   \n",
      "5314     TRGMRKF128F4275EE7          Pop A Top   \n",
      "5315     TRGMRKF128F4275EE7          Pop A Top   \n",
      "5316     TRGMRKF128F4275EE7          Pop A Top   \n",
      "5317     TRGMRKF128F4275EE7          Pop A Top   \n",
      "5318     TRGMRKF128F4275EE7          Pop A Top   \n",
      "5319     TRGMRKF128F4275EE7          Pop A Top   \n",
      "5320     TRGMRKF128F4275EE7          Pop A Top   \n",
      "5321     TRGMRKF128F4275EE7          Pop A Top   \n",
      "5322     TRGMRKF128F4275EE7          Pop A Top   \n",
      "5323     TRGMRKF128F4275EE7          Pop A Top   \n",
      "5324     TRGMRKF128F4275EE7          Pop A Top   \n",
      "5325     TRGMRKF128F4275EE7          Pop A Top   \n",
      "5326     TRGMRKF128F4275EE7          Pop A Top   \n",
      "5327     TRGMRKF128F4275EE7          Pop A Top   \n",
      "5328     TRGMRKF128F4275EE7          Pop A Top   \n",
      "5329     TRGMRKF128F4275EE7          Pop A Top   \n",
      "5330     TRGMRKF128F4275EE7          Pop A Top   \n",
      "5331     TRGMRKF128F4275EE7          Pop A Top   \n",
      "5332     TRGMRKF128F4275EE7          Pop A Top   \n",
      "5333     TRGMRKF128F4275EE7          Pop A Top   \n",
      "...                     ...                ...   \n",
      "4997179  TRDYXWA128F93236B1  Bob Away My Blues   \n",
      "4997180  TRDYXWA128F93236B1  Bob Away My Blues   \n",
      "4997181  TRDYXWA128F93236B1  Bob Away My Blues   \n",
      "4997182  TRDYXWA128F93236B1  Bob Away My Blues   \n",
      "4997183  TRDYXWA128F93236B1  Bob Away My Blues   \n",
      "4997184  TRDYXWA128F93236B1  Bob Away My Blues   \n",
      "4997185  TRDYXWA128F93236B1  Bob Away My Blues   \n",
      "4997186  TRDYXWA128F93236B1  Bob Away My Blues   \n",
      "4997187  TRDYXWA128F93236B1  Bob Away My Blues   \n",
      "4997188  TRDYXWA128F93236B1  Bob Away My Blues   \n",
      "4997189  TRDYXWA128F93236B1  Bob Away My Blues   \n",
      "4997190  TRDYXWA128F93236B1  Bob Away My Blues   \n",
      "4997191  TRDYXWA128F93236B1  Bob Away My Blues   \n",
      "4997192  TRDYXWA128F93236B1  Bob Away My Blues   \n",
      "4997193  TRDYXWA128F93236B1  Bob Away My Blues   \n",
      "4997194  TRDYXWA128F93236B1  Bob Away My Blues   \n",
      "4997195  TRDYXWA128F93236B1  Bob Away My Blues   \n",
      "4997196  TRDYXWA128F93236B1  Bob Away My Blues   \n",
      "4997197  TRDYXWA128F93236B1  Bob Away My Blues   \n",
      "4997198  TRDYXWA128F93236B1  Bob Away My Blues   \n",
      "4997199  TRDYXWA128F93236B1  Bob Away My Blues   \n",
      "4997200  TRDYXWA128F93236B1  Bob Away My Blues   \n",
      "4997201  TRDYXWA128F93236B1  Bob Away My Blues   \n",
      "4997202  TRDYXWA128F93236B1  Bob Away My Blues   \n",
      "4997203  TRDYXWA128F93236B1  Bob Away My Blues   \n",
      "4997204  TRDYXWA128F93236B1  Bob Away My Blues   \n",
      "4997205  TRDYXWA128F93236B1  Bob Away My Blues   \n",
      "4997206  TRDYXWA128F93236B1  Bob Away My Blues   \n",
      "4997207  TRDYXWA128F93236B1  Bob Away My Blues   \n",
      "4997208  TRDYXWA128F93236B1  Bob Away My Blues   \n",
      "\n",
      "                                        release           artist_id  \\\n",
      "5304                     Nat Stuckey: Pop A Top  AREZ7Y01187B9B7D19   \n",
      "5305                     Nat Stuckey: Pop A Top  AREZ7Y01187B9B7D19   \n",
      "5306                     Nat Stuckey: Pop A Top  AREZ7Y01187B9B7D19   \n",
      "5307                     Nat Stuckey: Pop A Top  AREZ7Y01187B9B7D19   \n",
      "5308                     Nat Stuckey: Pop A Top  AREZ7Y01187B9B7D19   \n",
      "5309                     Nat Stuckey: Pop A Top  AREZ7Y01187B9B7D19   \n",
      "5310                     Nat Stuckey: Pop A Top  AREZ7Y01187B9B7D19   \n",
      "5311                     Nat Stuckey: Pop A Top  AREZ7Y01187B9B7D19   \n",
      "5312                     Nat Stuckey: Pop A Top  AREZ7Y01187B9B7D19   \n",
      "5313                     Nat Stuckey: Pop A Top  AREZ7Y01187B9B7D19   \n",
      "5314                     Nat Stuckey: Pop A Top  AREZ7Y01187B9B7D19   \n",
      "5315                     Nat Stuckey: Pop A Top  AREZ7Y01187B9B7D19   \n",
      "5316                     Nat Stuckey: Pop A Top  AREZ7Y01187B9B7D19   \n",
      "5317                     Nat Stuckey: Pop A Top  AREZ7Y01187B9B7D19   \n",
      "5318                     Nat Stuckey: Pop A Top  AREZ7Y01187B9B7D19   \n",
      "5319                     Nat Stuckey: Pop A Top  AREZ7Y01187B9B7D19   \n",
      "5320                     Nat Stuckey: Pop A Top  AREZ7Y01187B9B7D19   \n",
      "5321                     Nat Stuckey: Pop A Top  AREZ7Y01187B9B7D19   \n",
      "5322                     Nat Stuckey: Pop A Top  AREZ7Y01187B9B7D19   \n",
      "5323                     Nat Stuckey: Pop A Top  AREZ7Y01187B9B7D19   \n",
      "5324                     Nat Stuckey: Pop A Top  AREZ7Y01187B9B7D19   \n",
      "5325                     Nat Stuckey: Pop A Top  AREZ7Y01187B9B7D19   \n",
      "5326                     Nat Stuckey: Pop A Top  AREZ7Y01187B9B7D19   \n",
      "5327                     Nat Stuckey: Pop A Top  AREZ7Y01187B9B7D19   \n",
      "5328                     Nat Stuckey: Pop A Top  AREZ7Y01187B9B7D19   \n",
      "5329                     Nat Stuckey: Pop A Top  AREZ7Y01187B9B7D19   \n",
      "5330                     Nat Stuckey: Pop A Top  AREZ7Y01187B9B7D19   \n",
      "5331                     Nat Stuckey: Pop A Top  AREZ7Y01187B9B7D19   \n",
      "5332                     Nat Stuckey: Pop A Top  AREZ7Y01187B9B7D19   \n",
      "5333                     Nat Stuckey: Pop A Top  AREZ7Y01187B9B7D19   \n",
      "...                                         ...                 ...   \n",
      "4997179  Playlist: The Very Best Of Clint Black  ARRSW6F1187FB52CF2   \n",
      "4997180  Playlist: The Very Best Of Clint Black  ARRSW6F1187FB52CF2   \n",
      "4997181  Playlist: The Very Best Of Clint Black  ARRSW6F1187FB52CF2   \n",
      "4997182  Playlist: The Very Best Of Clint Black  ARRSW6F1187FB52CF2   \n",
      "4997183  Playlist: The Very Best Of Clint Black  ARRSW6F1187FB52CF2   \n",
      "4997184  Playlist: The Very Best Of Clint Black  ARRSW6F1187FB52CF2   \n",
      "4997185  Playlist: The Very Best Of Clint Black  ARRSW6F1187FB52CF2   \n",
      "4997186  Playlist: The Very Best Of Clint Black  ARRSW6F1187FB52CF2   \n",
      "4997187  Playlist: The Very Best Of Clint Black  ARRSW6F1187FB52CF2   \n",
      "4997188  Playlist: The Very Best Of Clint Black  ARRSW6F1187FB52CF2   \n",
      "4997189  Playlist: The Very Best Of Clint Black  ARRSW6F1187FB52CF2   \n",
      "4997190  Playlist: The Very Best Of Clint Black  ARRSW6F1187FB52CF2   \n",
      "4997191  Playlist: The Very Best Of Clint Black  ARRSW6F1187FB52CF2   \n",
      "4997192  Playlist: The Very Best Of Clint Black  ARRSW6F1187FB52CF2   \n",
      "4997193  Playlist: The Very Best Of Clint Black  ARRSW6F1187FB52CF2   \n",
      "4997194  Playlist: The Very Best Of Clint Black  ARRSW6F1187FB52CF2   \n",
      "4997195  Playlist: The Very Best Of Clint Black  ARRSW6F1187FB52CF2   \n",
      "4997196  Playlist: The Very Best Of Clint Black  ARRSW6F1187FB52CF2   \n",
      "4997197  Playlist: The Very Best Of Clint Black  ARRSW6F1187FB52CF2   \n",
      "4997198  Playlist: The Very Best Of Clint Black  ARRSW6F1187FB52CF2   \n",
      "4997199  Playlist: The Very Best Of Clint Black  ARRSW6F1187FB52CF2   \n",
      "4997200  Playlist: The Very Best Of Clint Black  ARRSW6F1187FB52CF2   \n",
      "4997201  Playlist: The Very Best Of Clint Black  ARRSW6F1187FB52CF2   \n",
      "4997202  Playlist: The Very Best Of Clint Black  ARRSW6F1187FB52CF2   \n",
      "4997203  Playlist: The Very Best Of Clint Black  ARRSW6F1187FB52CF2   \n",
      "4997204  Playlist: The Very Best Of Clint Black  ARRSW6F1187FB52CF2   \n",
      "4997205  Playlist: The Very Best Of Clint Black  ARRSW6F1187FB52CF2   \n",
      "4997206  Playlist: The Very Best Of Clint Black  ARRSW6F1187FB52CF2   \n",
      "4997207  Playlist: The Very Best Of Clint Black  ARRSW6F1187FB52CF2   \n",
      "4997208  Playlist: The Very Best Of Clint Black  ARRSW6F1187FB52CF2   \n",
      "\n",
      "                                  artist_mbid  artist_name   duration  \\\n",
      "5304     116e05c7-6f77-430c-a7dc-7d904cc415f7  Nat Stuckey  160.80934   \n",
      "5305     116e05c7-6f77-430c-a7dc-7d904cc415f7  Nat Stuckey  160.80934   \n",
      "5306     116e05c7-6f77-430c-a7dc-7d904cc415f7  Nat Stuckey  160.80934   \n",
      "5307     116e05c7-6f77-430c-a7dc-7d904cc415f7  Nat Stuckey  160.80934   \n",
      "5308     116e05c7-6f77-430c-a7dc-7d904cc415f7  Nat Stuckey  160.80934   \n",
      "5309     116e05c7-6f77-430c-a7dc-7d904cc415f7  Nat Stuckey  160.80934   \n",
      "5310     116e05c7-6f77-430c-a7dc-7d904cc415f7  Nat Stuckey  160.80934   \n",
      "5311     116e05c7-6f77-430c-a7dc-7d904cc415f7  Nat Stuckey  160.80934   \n",
      "5312     116e05c7-6f77-430c-a7dc-7d904cc415f7  Nat Stuckey  160.80934   \n",
      "5313     116e05c7-6f77-430c-a7dc-7d904cc415f7  Nat Stuckey  160.80934   \n",
      "5314     116e05c7-6f77-430c-a7dc-7d904cc415f7  Nat Stuckey  160.80934   \n",
      "5315     116e05c7-6f77-430c-a7dc-7d904cc415f7  Nat Stuckey  160.80934   \n",
      "5316     116e05c7-6f77-430c-a7dc-7d904cc415f7  Nat Stuckey  160.80934   \n",
      "5317     116e05c7-6f77-430c-a7dc-7d904cc415f7  Nat Stuckey  160.80934   \n",
      "5318     116e05c7-6f77-430c-a7dc-7d904cc415f7  Nat Stuckey  160.80934   \n",
      "5319     116e05c7-6f77-430c-a7dc-7d904cc415f7  Nat Stuckey  160.80934   \n",
      "5320     116e05c7-6f77-430c-a7dc-7d904cc415f7  Nat Stuckey  160.80934   \n",
      "5321     116e05c7-6f77-430c-a7dc-7d904cc415f7  Nat Stuckey  160.80934   \n",
      "5322     116e05c7-6f77-430c-a7dc-7d904cc415f7  Nat Stuckey  160.80934   \n",
      "5323     116e05c7-6f77-430c-a7dc-7d904cc415f7  Nat Stuckey  160.80934   \n",
      "5324     116e05c7-6f77-430c-a7dc-7d904cc415f7  Nat Stuckey  160.80934   \n",
      "5325     116e05c7-6f77-430c-a7dc-7d904cc415f7  Nat Stuckey  160.80934   \n",
      "5326     116e05c7-6f77-430c-a7dc-7d904cc415f7  Nat Stuckey  160.80934   \n",
      "5327     116e05c7-6f77-430c-a7dc-7d904cc415f7  Nat Stuckey  160.80934   \n",
      "5328     116e05c7-6f77-430c-a7dc-7d904cc415f7  Nat Stuckey  160.80934   \n",
      "5329     116e05c7-6f77-430c-a7dc-7d904cc415f7  Nat Stuckey  160.80934   \n",
      "5330     116e05c7-6f77-430c-a7dc-7d904cc415f7  Nat Stuckey  160.80934   \n",
      "5331     116e05c7-6f77-430c-a7dc-7d904cc415f7  Nat Stuckey  160.80934   \n",
      "5332     116e05c7-6f77-430c-a7dc-7d904cc415f7  Nat Stuckey  160.80934   \n",
      "5333     116e05c7-6f77-430c-a7dc-7d904cc415f7  Nat Stuckey  160.80934   \n",
      "...                                       ...          ...        ...   \n",
      "4997179  dcd522c9-ac64-4c53-b080-6aab4abf2b44  Clint Black  184.11057   \n",
      "4997180  dcd522c9-ac64-4c53-b080-6aab4abf2b44  Clint Black  184.11057   \n",
      "4997181  dcd522c9-ac64-4c53-b080-6aab4abf2b44  Clint Black  184.11057   \n",
      "4997182  dcd522c9-ac64-4c53-b080-6aab4abf2b44  Clint Black  184.11057   \n",
      "4997183  dcd522c9-ac64-4c53-b080-6aab4abf2b44  Clint Black  184.11057   \n",
      "4997184  dcd522c9-ac64-4c53-b080-6aab4abf2b44  Clint Black  184.11057   \n",
      "4997185  dcd522c9-ac64-4c53-b080-6aab4abf2b44  Clint Black  184.11057   \n",
      "4997186  dcd522c9-ac64-4c53-b080-6aab4abf2b44  Clint Black  184.11057   \n",
      "4997187  dcd522c9-ac64-4c53-b080-6aab4abf2b44  Clint Black  184.11057   \n",
      "4997188  dcd522c9-ac64-4c53-b080-6aab4abf2b44  Clint Black  184.11057   \n",
      "4997189  dcd522c9-ac64-4c53-b080-6aab4abf2b44  Clint Black  184.11057   \n",
      "4997190  dcd522c9-ac64-4c53-b080-6aab4abf2b44  Clint Black  184.11057   \n",
      "4997191  dcd522c9-ac64-4c53-b080-6aab4abf2b44  Clint Black  184.11057   \n",
      "4997192  dcd522c9-ac64-4c53-b080-6aab4abf2b44  Clint Black  184.11057   \n",
      "4997193  dcd522c9-ac64-4c53-b080-6aab4abf2b44  Clint Black  184.11057   \n",
      "4997194  dcd522c9-ac64-4c53-b080-6aab4abf2b44  Clint Black  184.11057   \n",
      "4997195  dcd522c9-ac64-4c53-b080-6aab4abf2b44  Clint Black  184.11057   \n",
      "4997196  dcd522c9-ac64-4c53-b080-6aab4abf2b44  Clint Black  184.11057   \n",
      "4997197  dcd522c9-ac64-4c53-b080-6aab4abf2b44  Clint Black  184.11057   \n",
      "4997198  dcd522c9-ac64-4c53-b080-6aab4abf2b44  Clint Black  184.11057   \n",
      "4997199  dcd522c9-ac64-4c53-b080-6aab4abf2b44  Clint Black  184.11057   \n",
      "4997200  dcd522c9-ac64-4c53-b080-6aab4abf2b44  Clint Black  184.11057   \n",
      "4997201  dcd522c9-ac64-4c53-b080-6aab4abf2b44  Clint Black  184.11057   \n",
      "4997202  dcd522c9-ac64-4c53-b080-6aab4abf2b44  Clint Black  184.11057   \n",
      "4997203  dcd522c9-ac64-4c53-b080-6aab4abf2b44  Clint Black  184.11057   \n",
      "4997204  dcd522c9-ac64-4c53-b080-6aab4abf2b44  Clint Black  184.11057   \n",
      "4997205  dcd522c9-ac64-4c53-b080-6aab4abf2b44  Clint Black  184.11057   \n",
      "4997206  dcd522c9-ac64-4c53-b080-6aab4abf2b44  Clint Black  184.11057   \n",
      "4997207  dcd522c9-ac64-4c53-b080-6aab4abf2b44  Clint Black  184.11057   \n",
      "4997208  dcd522c9-ac64-4c53-b080-6aab4abf2b44  Clint Black  184.11057   \n",
      "\n",
      "         artist_familiarity  artist_hotttnesss  year  track_7digitalid  \\\n",
      "5304               0.322033           0.262099  1969            997824   \n",
      "5305               0.322033           0.262099  1969            997824   \n",
      "5306               0.322033           0.262099  1969            997824   \n",
      "5307               0.322033           0.262099  1969            997824   \n",
      "5308               0.322033           0.262099  1969            997824   \n",
      "5309               0.322033           0.262099  1969            997824   \n",
      "5310               0.322033           0.262099  1969            997824   \n",
      "5311               0.322033           0.262099  1969            997824   \n",
      "5312               0.322033           0.262099  1969            997824   \n",
      "5313               0.322033           0.262099  1969            997824   \n",
      "5314               0.322033           0.262099  1969            997824   \n",
      "5315               0.322033           0.262099  1969            997824   \n",
      "5316               0.322033           0.262099  1969            997824   \n",
      "5317               0.322033           0.262099  1969            997824   \n",
      "5318               0.322033           0.262099  1969            997824   \n",
      "5319               0.322033           0.262099  1969            997824   \n",
      "5320               0.322033           0.262099  1969            997824   \n",
      "5321               0.322033           0.262099  1969            997824   \n",
      "5322               0.322033           0.262099  1969            997824   \n",
      "5323               0.322033           0.262099  1969            997824   \n",
      "5324               0.322033           0.262099  1969            997824   \n",
      "5325               0.322033           0.262099  1969            997824   \n",
      "5326               0.322033           0.262099  1969            997824   \n",
      "5327               0.322033           0.262099  1969            997824   \n",
      "5328               0.322033           0.262099  1969            997824   \n",
      "5329               0.322033           0.262099  1969            997824   \n",
      "5330               0.322033           0.262099  1969            997824   \n",
      "5331               0.322033           0.262099  1969            997824   \n",
      "5332               0.322033           0.262099  1969            997824   \n",
      "5333               0.322033           0.262099  1969            997824   \n",
      "...                     ...                ...   ...               ...   \n",
      "4997179            0.710867           0.445339  1999           5549615   \n",
      "4997180            0.710867           0.445339  1999           5549615   \n",
      "4997181            0.710867           0.445339  1999           5549615   \n",
      "4997182            0.710867           0.445339  1999           5549615   \n",
      "4997183            0.710867           0.445339  1999           5549615   \n",
      "4997184            0.710867           0.445339  1999           5549615   \n",
      "4997185            0.710867           0.445339  1999           5549615   \n",
      "4997186            0.710867           0.445339  1999           5549615   \n",
      "4997187            0.710867           0.445339  1999           5549615   \n",
      "4997188            0.710867           0.445339  1999           5549615   \n",
      "4997189            0.710867           0.445339  1999           5549615   \n",
      "4997190            0.710867           0.445339  1999           5549615   \n",
      "4997191            0.710867           0.445339  1999           5549615   \n",
      "4997192            0.710867           0.445339  1999           5549615   \n",
      "4997193            0.710867           0.445339  1999           5549615   \n",
      "4997194            0.710867           0.445339  1999           5549615   \n",
      "4997195            0.710867           0.445339  1999           5549615   \n",
      "4997196            0.710867           0.445339  1999           5549615   \n",
      "4997197            0.710867           0.445339  1999           5549615   \n",
      "4997198            0.710867           0.445339  1999           5549615   \n",
      "4997199            0.710867           0.445339  1999           5549615   \n",
      "4997200            0.710867           0.445339  1999           5549615   \n",
      "4997201            0.710867           0.445339  1999           5549615   \n",
      "4997202            0.710867           0.445339  1999           5549615   \n",
      "4997203            0.710867           0.445339  1999           5549615   \n",
      "4997204            0.710867           0.445339  1999           5549615   \n",
      "4997205            0.710867           0.445339  1999           5549615   \n",
      "4997206            0.710867           0.445339  1999           5549615   \n",
      "4997207            0.710867           0.445339  1999           5549615   \n",
      "4997208            0.710867           0.445339  1999           5549615   \n",
      "\n",
      "             word  count  is_test    genre  is_country  \n",
      "5304            i     12        0  Country           1  \n",
      "5305          you      5        0  Country           1  \n",
      "5306           to      4        0  Country           1  \n",
      "5307          and      5        0  Country           1  \n",
      "5308            a      8        0  Country           1  \n",
      "5309           me      2        0  Country           1  \n",
      "5310           it      2        0  Country           1  \n",
      "5311          not      2        0  Country           1  \n",
      "5312           my      3        0  Country           1  \n",
      "5313           is      3        0  Country           1  \n",
      "5314           of      4        0  Country           1  \n",
      "5315           on      3        0  Country           1  \n",
      "5316           am      1        0  Country           1  \n",
      "5317         will      4        0  Country           1  \n",
      "5318          for      1        0  Country           1  \n",
      "5319           be      2        0  Country           1  \n",
      "5320         have      2        0  Country           1  \n",
      "5321           so      4        0  Country           1  \n",
      "5322          but      2        0  Country           1  \n",
      "5323         with      1        0  Country           1  \n",
      "5324         what      2        0  Country           1  \n",
      "5325         just      1        0  Country           1  \n",
      "5326         like      1        0  Country           1  \n",
      "5327         time      1        0  Country           1  \n",
      "5328          can      2        0  Country           1  \n",
      "5329           up      1        0  Country           1  \n",
      "5330          one      1        0  Country           1  \n",
      "5331          out      1        0  Country           1  \n",
      "5332         down      3        0  Country           1  \n",
      "5333          she      1        0  Country           1  \n",
      "...           ...    ...      ...      ...         ...  \n",
      "4997179     first      1        0  Country           1  \n",
      "4997180     under      1        0  Country           1  \n",
      "4997181     money      1        0  Country           1  \n",
      "4997182       sit      1        0  Country           1  \n",
      "4997183      took      1        0  Country           1  \n",
      "4997184      wake      1        0  Country           1  \n",
      "4997185      citi      4        0  Country           1  \n",
      "4997186      hous      1        0  Country           1  \n",
      "4997187       hay      1        0  Country           1  \n",
      "4997188      tree      1        0  Country           1  \n",
      "4997189     river      1        0  Country           1  \n",
      "4997190     honey      1        0  Country           1  \n",
      "4997191      cool      1        0  Country           1  \n",
      "4997192      goin      2        0  Country           1  \n",
      "4997193      pick      1        0  Country           1  \n",
      "4997194        pa      1        0  Country           1  \n",
      "4997195    famili      1        0  Country           1  \n",
      "4997196       age      1        0  Country           1  \n",
      "4997197   countri      3        0  Country           1  \n",
      "4997198       few      1        0  Country           1  \n",
      "4997199     shade      1        0  Country           1  \n",
      "4997200  saturday      1        0  Country           1  \n",
      "4997201      dirt      1        0  Country           1  \n",
      "4997202     coffe      1        0  Country           1  \n",
      "4997203    mornin      1        0  Country           1  \n",
      "4997204      whip      1        0  Country           1  \n",
      "4997205     advic      1        0  Country           1  \n",
      "4997206     awhil      1        0  Country           1  \n",
      "4997207      dude      1        0  Country           1  \n",
      "4997208       bob      1        0  Country           1  \n",
      "\n",
      "[73042 rows x 16 columns]\n"
     ]
    }
   ],
   "source": [
    "print(df_merged[df_merged['is_country']==1])"
   ]
  },
  {
   "cell_type": "code",
   "execution_count": 23,
   "metadata": {
    "collapsed": false
   },
   "outputs": [],
   "source": [
    "df_model=df_merged[['track_id', 'is_country', 'word', 'count']]"
   ]
  },
  {
   "cell_type": "markdown",
   "metadata": {},
   "source": [
    "# Sparse matrix representation - efficient"
   ]
  },
  {
   "cell_type": "code",
   "execution_count": 24,
   "metadata": {
    "collapsed": false
   },
   "outputs": [],
   "source": [
    "from scipy.sparse import csr_matrix\n",
    "\n",
    "track_sorted=sorted(df_model.track_id.unique())\n",
    "words_sorted=sorted(df_model.word.unique())\n",
    "\n",
    "track_id_u = list(track_sorted)\n",
    "word_u = list(words_sorted)\n",
    "\n",
    "data = df_model['count'].tolist()\n",
    "row = df_model.track_id.astype('category', categories=track_id_u).cat.codes\n",
    "col = df_model.word.astype('category', categories=word_u).cat.codes\n",
    "sparse_matrix = csr_matrix((data, (row, col)), shape=(len(track_id_u), len(word_u)))"
   ]
  },
  {
   "cell_type": "code",
   "execution_count": 25,
   "metadata": {
    "collapsed": true
   },
   "outputs": [],
   "source": [
    "x_train=np.array(sparse_matrix.todense())"
   ]
  },
  {
   "cell_type": "code",
   "execution_count": 26,
   "metadata": {
    "collapsed": false
   },
   "outputs": [
    {
     "name": "stdout",
     "output_type": "stream",
     "text": [
      "(62355, 5000)\n",
      "[0 0 1 ..., 0 0 0]\n"
     ]
    }
   ],
   "source": [
    "print(x_train.shape)\n",
    "print(x_train[2860])"
   ]
  },
  {
   "cell_type": "code",
   "execution_count": 27,
   "metadata": {
    "collapsed": false
   },
   "outputs": [
    {
     "name": "stdout",
     "output_type": "stream",
     "text": [
      "[0 0 0 0 0 0 0 0 1 0 0 0 0 0 0 0 0 0 0 0]\n"
     ]
    }
   ],
   "source": [
    "y_train=df_model.groupby('track_id', sort=False)['is_country'].agg('mean')\n",
    "y_train=np.array(y_train)\n",
    "print(y_train[2980:3000])"
   ]
  },
  {
   "cell_type": "code",
   "execution_count": null,
   "metadata": {
    "collapsed": false
   },
   "outputs": [],
   "source": [
    "#CODE TO VALIDATE SPARSE MATRIX ABOVE\n",
    "\n",
    "#np.set_printoptions(linewidth=100)\n",
    "#sparse_matrix.todense()\n",
    "#print(sparse_matrix)\n",
    "#print(df_model.head(100))"
   ]
  },
  {
   "cell_type": "code",
   "execution_count": 28,
   "metadata": {
    "collapsed": false,
    "scrolled": true
   },
   "outputs": [],
   "source": [
    "df_model_no_dup=df_model.groupby('track_id')['is_country'].mean()\n",
    "#print(df_model_no_dup)\n",
    "\n",
    "#print(len(df_model.loc[df_model.is_country==1]))\n",
    "y_train2=np.array(df_model_no_dup)"
   ]
  },
  {
   "cell_type": "code",
   "execution_count": 29,
   "metadata": {
    "collapsed": false
   },
   "outputs": [
    {
     "name": "stdout",
     "output_type": "stream",
     "text": [
      "(62355,) [1 0 0 0 0 0 0 0 0 0 0 0 0 0 0 0 0 0 0 0]\n"
     ]
    }
   ],
   "source": [
    "print(y_train2.shape,  y_train2[2980:3000])"
   ]
  },
  {
   "cell_type": "markdown",
   "metadata": {},
   "source": [
    "# Naive bayes"
   ]
  },
  {
   "cell_type": "code",
   "execution_count": 30,
   "metadata": {
    "collapsed": false
   },
   "outputs": [
    {
     "data": {
      "text/plain": [
       "MultinomialNB(alpha=1.0, class_prior=None, fit_prior=True)"
      ]
     },
     "execution_count": 30,
     "metadata": {},
     "output_type": "execute_result"
    }
   ],
   "source": [
    "# Naive bayes \n",
    "from sklearn.naive_bayes import MultinomialNB\n",
    "from sklearn import metrics\n",
    "\n",
    "model1=MultinomialNB()\n",
    "model1.fit(x_train, y_train)"
   ]
  },
  {
   "cell_type": "code",
   "execution_count": 31,
   "metadata": {
    "collapsed": false,
    "scrolled": true
   },
   "outputs": [
    {
     "name": "stdout",
     "output_type": "stream",
     "text": [
      "training data \n",
      "             precision    recall  f1-score   support\n",
      "\n",
      "          0       0.99      0.94      0.96     61564\n",
      "          1       0.08      0.45      0.14       791\n",
      "\n",
      "avg / total       0.98      0.93      0.95     62355\n",
      "\n",
      "[[57605  3959]\n",
      " [  434   357]]\n"
     ]
    }
   ],
   "source": [
    "#Metrics\n",
    "expected=y_train\n",
    "predicted=model1.predict(x_train)\n",
    "print('training data \\n' + metrics.classification_report(expected, predicted))\n",
    "matrix=metrics.confusion_matrix(y_train, predicted)\n",
    "print(matrix)"
   ]
  },
  {
   "cell_type": "markdown",
   "metadata": {},
   "source": [
    "# Extra data pre-processing for more expensive models\n",
    "SVM, Logistic and RF take a while to run, and could be prone to overfitting. The code below only keeps the top \"top\" most popular words (change 1 cell down to implement this)"
   ]
  },
  {
   "cell_type": "code",
   "execution_count": 32,
   "metadata": {
    "collapsed": false
   },
   "outputs": [
    {
     "name": "stdout",
     "output_type": "stream",
     "text": [
      "(5000, 1)\n"
     ]
    }
   ],
   "source": [
    "#Creates an array that sums up each column of x_train, sorts it, keeps the top 200 and subsets based on this\n",
    "x_train_pd=pd.DataFrame(x_train)\n",
    "x_train_sum=pd.DataFrame(x_train_pd.sum(axis=0))\n",
    "print(x_train_sum.shape)\n",
    "x_train_sum['idx']=range(5000)\n",
    "x_train_sum.sort_values(by=0, axis=0, ascending=False, inplace=True)"
   ]
  },
  {
   "cell_type": "code",
   "execution_count": 63,
   "metadata": {
    "collapsed": true
   },
   "outputs": [],
   "source": [
    "#Change top below to take more or less words\n",
    "top=1000\n",
    "\n",
    "keep_columns=x_train_sum.iloc[top:]['idx']\n",
    "keep_columns_array=np.array(keep_columns)\n",
    "x_train_subset=x_train_pd.iloc[:,keep_columns_array]\n",
    "x_train2=np.array(x_train_subset)"
   ]
  },
  {
   "cell_type": "markdown",
   "metadata": {},
   "source": [
    "# Logistic"
   ]
  },
  {
   "cell_type": "code",
   "execution_count": 56,
   "metadata": {
    "collapsed": false
   },
   "outputs": [
    {
     "name": "stdout",
     "output_type": "stream",
     "text": [
      "       1808  4758  3076  1154  2486  4385  2316  1806  3057  78    ...   2137  \\\n",
      "0         0     0     0     0     0     0     0     0     0     0  ...      0   \n",
      "1         0     3     2     0     1     0     3     0     0     0  ...      0   \n",
      "2         0     0     0     0     0     6     0     3     0     0  ...      0   \n",
      "3         0     0     0     0     0     1     0    17     1     0  ...      0   \n",
      "4         0     0     0     0     0     0     0     0     3     0  ...      0   \n",
      "5         0     0     0     2     0     0     0     0     0     1  ...      0   \n",
      "6         0     0     0     0     0     0     0     0     0     0  ...      0   \n",
      "7         0     0     0     0     0     0     0     0     0     0  ...      0   \n",
      "8         1     0     0     0     1     0     0     0     0     1  ...      0   \n",
      "9         1     0     0     1     0     0     0     0     0     0  ...      0   \n",
      "10        0     0     1     0     0     0     0     1     0     0  ...      0   \n",
      "11        0     0     0     0     0     0     0     0     0     0  ...      0   \n",
      "12        0     0     0     0     1     0     0     0     0     0  ...      0   \n",
      "13        0     0     0     0     0     0    11     4     0     0  ...      0   \n",
      "14        0     0     0     0     0     0     0     0     0     0  ...      0   \n",
      "15        0     0     1     0     0     0     0     0     0     0  ...      0   \n",
      "16        0     0     1     0     0     4     0     0     0     0  ...      0   \n",
      "17        1    24     0     3     3     0     0     1     1     0  ...      0   \n",
      "18        0     0     0     0     0     0     0     0     0     0  ...      0   \n",
      "19        0     1     1     0     0     0     1     4     0     2  ...      0   \n",
      "20        1     0     0     0     1     0     2     0     2     0  ...      0   \n",
      "21        0     0    11     0     0     0     0     0     0     0  ...      0   \n",
      "22        7    10     0     0     0     2     0     0     0     0  ...      0   \n",
      "23        0     0     0     0     0     2     0     0     0     0  ...      0   \n",
      "24        0     0     0     1     5     1     1     0     0     0  ...      0   \n",
      "25        0     0     0     0     0     1     4     0     0     0  ...      0   \n",
      "26        0     2     0     0     0     0     0     0     0     0  ...      0   \n",
      "27        0     0     0     0     0     0     0     0     0     0  ...      0   \n",
      "28        0     0     0     0     0     0     0     0     0     5  ...      0   \n",
      "29        0     0     0     0     0     0     0     0     0     0  ...      0   \n",
      "...     ...   ...   ...   ...   ...   ...   ...   ...   ...   ...  ...    ...   \n",
      "62325     0     0     1     0     1     0     0     0     0     1  ...      0   \n",
      "62326     0     0     0     0     0     0     1     0     0     0  ...      0   \n",
      "62327     0     0     0     0     0     0     0     0     0     6  ...      0   \n",
      "62328     0     0     0     0     0     1     0     0     0     0  ...      0   \n",
      "62329     0     0     0     0     0     0     0     0     0     2  ...      0   \n",
      "62330     0     0     0     0     0     0     0     0     0     1  ...      0   \n",
      "62331     0     0     0     2     7     0     0     0     0     0  ...      0   \n",
      "62332     0     0     0     0     0     0     0     1     0     1  ...      0   \n",
      "62333     0     0     0     0     0     1     0     0     0     0  ...      0   \n",
      "62334     0     0     0     0     0     0     0     0     0     0  ...      0   \n",
      "62335     0     0     0     0     0     0     0     0     0     0  ...      0   \n",
      "62336     1     0     1     0     0     0     0     0     0     0  ...      1   \n",
      "62337     0     0     0     0     0     0     1     0     0     0  ...      0   \n",
      "62338     1     0     0     0     0     0     0     0     0     5  ...      0   \n",
      "62339     1     0     0     0     0     0     0     0     0     0  ...      0   \n",
      "62340     0     0     0     3     0     0     0     0     5     0  ...      0   \n",
      "62341     0     0     0     0     0     0     0     0     0     0  ...      0   \n",
      "62342     0     1     3     1     2     0     0     0     1     1  ...      0   \n",
      "62343     0     1     0     0     0     0     0     0     2     1  ...      0   \n",
      "62344     1     0     0     0     0     0     0     0     0     0  ...      0   \n",
      "62345     1     0     0     0     1     0     0     0     0     0  ...      0   \n",
      "62346     0     0     0     0     0     0     0     0     0     0  ...      0   \n",
      "62347     0     0     0     0     4     1     0     0     0     0  ...      0   \n",
      "62348     0     0     0     0     0     0     0     0     0     0  ...      0   \n",
      "62349     1     0     0     0     0     0     0     0     0     0  ...      0   \n",
      "62350     0     0     0     0     0     0     0     0     0     0  ...      0   \n",
      "62351     2     0     0     1     4     0     2     0     0     0  ...      0   \n",
      "62352     0     0     0     0     0     0     0     0     0     2  ...      0   \n",
      "62353     0     0     0     0     0    17     0     5     0     0  ...      0   \n",
      "62354     0     2     0     0     0     0     0     0     0     0  ...      0   \n",
      "\n",
      "       4541  2677  404   4805  80    1509  2698  4864  847   \n",
      "0         0     0     0     0     0     0     0     0     0  \n",
      "1         0     0     0     0     0     0     0     0     0  \n",
      "2         0     0     0     0     0     0     0     0     0  \n",
      "3         0     0     0     0     0     0     0     0     0  \n",
      "4         0     0     0     0     0     0     0     0     0  \n",
      "5         0     0     0     0     0     0     0     0     0  \n",
      "6         0     0     0     0     0     0     0     0     0  \n",
      "7         0     0     0     0     0     0     0     0     0  \n",
      "8         0     0     0     0     0     0     0     0     0  \n",
      "9         0     0     0     0     0     0     0     0     0  \n",
      "10        0     0     0     0     0     0     0     0     0  \n",
      "11        0     0     0     0     0     0     0     0     0  \n",
      "12        0     0     0     0     0     0     0     0     0  \n",
      "13        0     0     0     0     0     0     0     0     0  \n",
      "14        0     0     0     0     0     0     0     0     0  \n",
      "15        0     0     0     0     0     0     0     0     0  \n",
      "16        0     0     0     0     0     0     0     0     0  \n",
      "17        0     0     0     0     0     0     0     0     0  \n",
      "18        0     0     0     0     0     0     0     0     0  \n",
      "19        0     0     0     0     0     0     0     0     0  \n",
      "20        0     0     0     0     0     0     0     0     0  \n",
      "21        0     0     0     0     0     0     0     0     0  \n",
      "22        0     0     0     0     0     0     0     0     0  \n",
      "23        0     0     0     0     0     0     0     0     0  \n",
      "24        0     0     0     0     0     0     0     0     0  \n",
      "25        0     0     0     0     0     0     0     0     0  \n",
      "26        0     0     0     0     0     0     0     0     0  \n",
      "27        0     0     0     0     0     0     0     0     0  \n",
      "28        0     0     0     0     0     0     0     0     0  \n",
      "29        0     0     0     0     0     0     0     0     0  \n",
      "...     ...   ...   ...   ...   ...   ...   ...   ...   ...  \n",
      "62325     0     0     0     0     0     0     0     0     0  \n",
      "62326     0     0     0     0     0     0     0     1     0  \n",
      "62327     0     0     0     0     0     0     0     0     0  \n",
      "62328     0     0     0     0     0     0     0     0     0  \n",
      "62329     0     0     0     0     0     0     0     0     0  \n",
      "62330     0     0     0     0     0     0     0     0     0  \n",
      "62331     0     0     0     0     0     0     0     0     0  \n",
      "62332     0     0     0     0     0     0     0     0     0  \n",
      "62333     0     0     0     0     2     0     0     0     0  \n",
      "62334     0     0     0     0     0     0     0     0     0  \n",
      "62335     0     0     0     0     0     0     0     0     0  \n",
      "62336     0     0     0     0     0     0     0     0     0  \n",
      "62337     0     0     0     0     0     0     0     0     0  \n",
      "62338     0     0     0     0     0     0     0     0     0  \n",
      "62339     0     0     0     0     0     0     0     0     0  \n",
      "62340     0     0     0     0     0     0     0     0     0  \n",
      "62341     0     0     0     0     0     0     0     0     0  \n",
      "62342     0     0     0     0     0     1     0     0     1  \n",
      "62343     0     0     0     0     0     0     0     0     0  \n",
      "62344     0     0     0     0     0     0     0     0     0  \n",
      "62345     0     0     0     0     0     0     0     0     0  \n",
      "62346     0     0     0     0     0     0     0     0     0  \n",
      "62347     0     0     0     0     0     0     0     0     0  \n",
      "62348     0     0     0     0     0     0     0     0     0  \n",
      "62349     0     0     0     0     0     0     0     0     0  \n",
      "62350     0     0     0     0     0     0     0     0     0  \n",
      "62351     0     0     0     0     0     0     0     0     0  \n",
      "62352     0     0     0     0     2     0     0     0     0  \n",
      "62353     0     0     0     0     0     0     0     0     0  \n",
      "62354     0     0     0     0     0     0     0     0     0  \n",
      "\n",
      "[62355 rows x 900 columns]\n"
     ]
    }
   ],
   "source": [
    "print(x_train_subset)"
   ]
  },
  {
   "cell_type": "code",
   "execution_count": 47,
   "metadata": {
    "collapsed": false
   },
   "outputs": [
    {
     "name": "stdout",
     "output_type": "stream",
     "text": [
      "(62355, 4000) (62355,)\n",
      "(62355, 5000)\n",
      "[[0 0 0 ..., 0 0 0]\n",
      " [0 0 0 ..., 0 0 0]\n",
      " [0 0 0 ..., 0 0 0]\n",
      " ..., \n",
      " [0 0 0 ..., 0 0 0]\n",
      " [0 0 0 ..., 0 0 0]\n",
      " [0 0 0 ..., 0 0 0]] [0 0 0 ..., 0 0 0]\n"
     ]
    }
   ],
   "source": [
    "print(x_train2.shape, y_train.shape)\n",
    "print(x_train.shape)\n",
    "print(x_train, y_train)"
   ]
  },
  {
   "cell_type": "code",
   "execution_count": 57,
   "metadata": {
    "collapsed": false
   },
   "outputs": [],
   "source": [
    "from sklearn.linear_model import LogisticRegression\n",
    "logit = LogisticRegression(class_weight='balanced')"
   ]
  },
  {
   "cell_type": "code",
   "execution_count": 66,
   "metadata": {
    "collapsed": true
   },
   "outputs": [],
   "source": [
    "model2=logit.fit(x_train,y_train)"
   ]
  },
  {
   "cell_type": "code",
   "execution_count": null,
   "metadata": {
    "collapsed": true
   },
   "outputs": [],
   "source": [
    "#Metrics\n",
    "expected=y_train\n",
    "predicted=model2.predict(x_train)\n",
    "print('training data \\n' + metrics.classification_report(expected, predicted))\n",
    "matrix=metrics.confusion_matrix(y_train, predicted)\n",
    "print(matrix)"
   ]
  },
  {
   "cell_type": "markdown",
   "metadata": {},
   "source": [
    "# Random forest"
   ]
  },
  {
   "cell_type": "code",
   "execution_count": 76,
   "metadata": {
    "collapsed": false
   },
   "outputs": [],
   "source": [
    "from sklearn.ensemble import RandomForestClassifier\n",
    "rfc=RandomForestClassifier(class_weight='balanced_subsample')"
   ]
  },
  {
   "cell_type": "code",
   "execution_count": 77,
   "metadata": {
    "collapsed": true
   },
   "outputs": [],
   "source": [
    "model3=rfc.fit(x_train, y_train)"
   ]
  },
  {
   "cell_type": "code",
   "execution_count": 78,
   "metadata": {
    "collapsed": false
   },
   "outputs": [
    {
     "name": "stdout",
     "output_type": "stream",
     "text": [
      "training data \n",
      "             precision    recall  f1-score   support\n",
      "\n",
      "          0       1.00      1.00      1.00     61564\n",
      "          1       0.99      0.74      0.84       791\n",
      "\n",
      "avg / total       1.00      1.00      1.00     62355\n",
      "\n",
      "[[61557     7]\n",
      " [  209   582]]\n"
     ]
    }
   ],
   "source": [
    "#Metrics\n",
    "expected=y_train\n",
    "predicted=model3.predict(x_train)\n",
    "print('training data \\n' + metrics.classification_report(expected, predicted))\n",
    "matrix=metrics.confusion_matrix(y_train, predicted)\n",
    "print(matrix)"
   ]
  },
  {
   "cell_type": "markdown",
   "metadata": {},
   "source": [
    "# SVM"
   ]
  },
  {
   "cell_type": "code",
   "execution_count": 80,
   "metadata": {
    "collapsed": true
   },
   "outputs": [],
   "source": [
    "from sklearn import svm\n",
    "svmlin=svm.LinearSVC(class_weight='balanced')"
   ]
  },
  {
   "cell_type": "code",
   "execution_count": 81,
   "metadata": {
    "collapsed": true
   },
   "outputs": [],
   "source": [
    "model4=svmlin.fit(x_train, y_train)"
   ]
  },
  {
   "cell_type": "code",
   "execution_count": 83,
   "metadata": {
    "collapsed": false
   },
   "outputs": [
    {
     "name": "stdout",
     "output_type": "stream",
     "text": [
      "training data \n",
      "             precision    recall  f1-score   support\n",
      "\n",
      "          0       0.99      0.99      0.99     61564\n",
      "          1       0.49      0.49      0.49       791\n",
      "\n",
      "avg / total       0.99      0.99      0.99     62355\n",
      "\n",
      "[[61161   403]\n",
      " [  401   390]]\n"
     ]
    }
   ],
   "source": [
    "#Metrics\n",
    "expected=y_train\n",
    "predicted=model4.predict(x_train)\n",
    "print('training data \\n' + metrics.classification_report(expected, predicted))\n",
    "matrix=metrics.confusion_matrix(y_train, predicted)\n",
    "print(matrix)"
   ]
  },
  {
   "cell_type": "markdown",
   "metadata": {
    "collapsed": true
   },
   "source": [
    "# Close sql connection"
   ]
  },
  {
   "cell_type": "code",
   "execution_count": null,
   "metadata": {
    "collapsed": true
   },
   "outputs": [],
   "source": [
    "conn.close()\n",
    "conn_tmdb.close()"
   ]
  },
  {
   "cell_type": "markdown",
   "metadata": {},
   "source": [
    "# Sparse matrix inefficient\n",
    "This is legacy code, it's ridiculously slow"
   ]
  },
  {
   "cell_type": "code",
   "execution_count": null,
   "metadata": {
    "collapsed": false,
    "scrolled": true
   },
   "outputs": [],
   "source": [
    "df_model_piv=df_model.pivot(index='track_id', columns='word', values='count')\n",
    "print(df_model_piv.head(20))"
   ]
  },
  {
   "cell_type": "code",
   "execution_count": null,
   "metadata": {
    "collapsed": false
   },
   "outputs": [],
   "source": [
    "df_model_piv=df_model_piv.iloc[0:100000]\n",
    "df_model_piv.replace(to_replace='Nan', value=0, inplace=True)\n",
    "df_model_piv = df_model_piv.rename(columns={'word': 'track_id'})\n",
    "print(df_model_piv.head(1))"
   ]
  },
  {
   "cell_type": "code",
   "execution_count": null,
   "metadata": {
    "collapsed": false,
    "scrolled": true
   },
   "outputs": [],
   "source": [
    "df_is_country=df_merged[['track_id', 'is_country']]\n",
    "df_is_country=df_is_country.groupby(by='track_id', as_index=True).mean()\n",
    "print(df_is_country[df_is_country.is_country==True])"
   ]
  },
  {
   "cell_type": "code",
   "execution_count": null,
   "metadata": {
    "collapsed": false
   },
   "outputs": [],
   "source": [
    "df_model_sparse=pd.merge(df_model_piv, df_is_country, left_index=True, right_index=True, how='left')"
   ]
  },
  {
   "cell_type": "code",
   "execution_count": null,
   "metadata": {
    "collapsed": true
   },
   "outputs": [],
   "source": [
    "#df_model_sparse.to_csv('C:/JupData/abc.csv')"
   ]
  },
  {
   "cell_type": "code",
   "execution_count": null,
   "metadata": {
    "collapsed": false,
    "scrolled": true
   },
   "outputs": [],
   "source": [
    "from sklearn import preprocessing\n",
    "import numpy as np\n",
    "\n",
    "y_train=np.array(df_model_sparse['is_country'])\n",
    "df_model_sparse.drop('is_country', axis=1, inplace=True)"
   ]
  },
  {
   "cell_type": "code",
   "execution_count": null,
   "metadata": {
    "collapsed": false,
    "scrolled": true
   },
   "outputs": [],
   "source": [
    "df_model_sparse.drop('track_id', axis=1, inplace=True)"
   ]
  },
  {
   "cell_type": "code",
   "execution_count": null,
   "metadata": {
    "collapsed": true
   },
   "outputs": [],
   "source": [
    "x_train=np.array(df_model_sparse)"
   ]
  },
  {
   "cell_type": "code",
   "execution_count": null,
   "metadata": {
    "collapsed": false
   },
   "outputs": [],
   "source": [
    "print(x_train.shape, y_train.shape)"
   ]
  },
  {
   "cell_type": "code",
   "execution_count": null,
   "metadata": {
    "collapsed": false
   },
   "outputs": [],
   "source": [
    "print(x_train[2860], y_train[2980:3000])"
   ]
  }
 ],
 "metadata": {
  "kernelspec": {
   "display_name": "Python 3",
   "language": "python",
   "name": "python3"
  },
  "language_info": {
   "codemirror_mode": {
    "name": "ipython",
    "version": 3
   },
   "file_extension": ".py",
   "mimetype": "text/x-python",
   "name": "python",
   "nbconvert_exporter": "python",
   "pygments_lexer": "ipython3",
   "version": "3.6.0"
  }
 },
 "nbformat": 4,
 "nbformat_minor": 2
}
